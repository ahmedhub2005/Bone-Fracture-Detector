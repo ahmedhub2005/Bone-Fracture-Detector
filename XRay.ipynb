{
 "cells": [
  {
   "cell_type": "markdown",
   "id": "7e169adc",
   "metadata": {},
   "source": []
  },
  {
   "cell_type": "markdown",
   "id": "233f9f2b",
   "metadata": {},
   "source": [
    "# 🩻 Bone Fracture Detection using Deep Learning  \n",
    "\n",
    "<img src=\"D:\\python for data science\\skeleton xray GIF.gif\" width=\"400\" />\n",
    "\n",
    "\n"
   ]
  },
  {
   "cell_type": "code",
   "execution_count": 110,
   "id": "b2a298ab",
   "metadata": {},
   "outputs": [],
   "source": [
    "import tensorflow as tf \n",
    "from tensorflow.keras import layers, models\n",
    "from tensorflow.keras.preprocessing.image import ImageDataGenerator"
   ]
  },
  {
   "cell_type": "code",
   "execution_count": 111,
   "id": "cf03a2c7",
   "metadata": {},
   "outputs": [
    {
     "name": "stdout",
     "output_type": "stream",
     "text": [
      "Found 9246 images belonging to 2 classes.\n",
      "Found 829 images belonging to 2 classes.\n",
      "Found 506 images belonging to 2 classes.\n"
     ]
    }
   ],
   "source": [
    "traingen=ImageDataGenerator(    \n",
    "    rescale=1./255,\n",
    "    rotation_range=15,\n",
    "    width_shift_range=0.1,\n",
    "    height_shift_range=0.1,\n",
    "    shear_range=0.1,\n",
    "    zoom_range=0.1,\n",
    "    horizontal_flip=True)\n",
    "\n",
    "train_genertor=traingen.flow_from_directory(\n",
    "   r\"D:\\python for data science\\Bone_Fracture_Binary_Classification\\Bone_Fracture_Binary_Classification\\train\",\n",
    "    target_size=(150 , 150),\n",
    "    batch_size=32,\n",
    "    class_mode=\"binary\",\n",
    "    color_mode=\"rgb\"\n",
    ")\n",
    "val_genertor=traingen.flow_from_directory(\n",
    "    r'\\python for data science\\Bone_Fracture_Binary_Classification\\Bone_Fracture_Binary_Classification\\val',\n",
    "    target_size=(150 , 150),\n",
    "    batch_size=32,\n",
    "    class_mode=\"binary\", \n",
    "    color_mode=\"rgb\"\n",
    ")\n",
    "test_genertor=traingen.flow_from_directory(\n",
    "    r'\\python for data science\\Bone_Fracture_Binary_Classification\\Bone_Fracture_Binary_Classification\\test',\n",
    "    target_size=(150 , 150),\n",
    "    batch_size=32,\n",
    "    class_mode=\"binary\" ,#علي حسب الداتا باينري كلاسفكيش ولا مالتي\n",
    "    color_mode=\"rgb\"\n",
    ")\n"
   ]
  },
  {
   "cell_type": "markdown",
   "id": "9f35d783",
   "metadata": {},
   "source": [
    "##Show some Images"
   ]
  },
  {
   "cell_type": "code",
   "execution_count": 112,
   "id": "669f6327",
   "metadata": {},
   "outputs": [],
   "source": [
    "import cv2\n",
    "\n",
    "img = train_genertor[0][0][0]\n",
    "\n",
    "img = img.astype(\"uint8\")\n",
    "cv2.imshow(\"X-ray Sample\", img)\n",
    "cv2.waitKey(0)          \n",
    "cv2.destroyAllWindows()  \n",
    "\n"
   ]
  },
  {
   "cell_type": "code",
   "execution_count": 113,
   "id": "eee91be5",
   "metadata": {},
   "outputs": [],
   "source": [
    "img = train_genertor[0][0][25]\n",
    "\n",
    "img = img.astype(\"uint8\")\n",
    "cv2.imshow(\"X-ray Sample\", img)\n",
    "cv2.waitKey(0)          \n",
    "cv2.destroyAllWindows()  \n"
   ]
  },
  {
   "cell_type": "code",
   "execution_count": 114,
   "id": "e660c481",
   "metadata": {},
   "outputs": [],
   "source": [
    "img = train_genertor[0][0][15]\n",
    "\n",
    "img = img.astype(\"uint8\")\n",
    "cv2.imshow(\"X-ray Sample\", img)\n",
    "cv2.waitKey(0)          \n",
    "cv2.destroyAllWindows()  \n"
   ]
  },
  {
   "cell_type": "code",
   "execution_count": 115,
   "id": "f618b667",
   "metadata": {},
   "outputs": [],
   "source": [
    "img = train_genertor[0][0][23]\n",
    "\n",
    "img = img.astype(\"uint8\")\n",
    "cv2.imshow(\"X-ray Sample\", img)\n",
    "cv2.waitKey(0)          \n",
    "cv2.destroyAllWindows()  \n"
   ]
  },
  {
   "cell_type": "code",
   "execution_count": 116,
   "id": "b82faf79",
   "metadata": {},
   "outputs": [
    {
     "data": {
      "image/png": "[encoded data removed]",
      "text/plain": [
       "<Figure size 640x480 with 1 Axes>"
      ]
     },
     "metadata": {},
     "output_type": "display_data"
    }
   ],
   "source": [
    "import matplotlib.pyplot as plt\n",
    "import numpy as np\n",
    "\n",
    "labels = list(train_genertor.class_indices.keys())\n",
    "counts = np.bincount(train_genertor.classes)\n",
    "\n",
    "plt.bar(labels, counts)\n",
    "plt.title(\"Class Distribution\")\n",
    "plt.show()\n"
   ]
  },
  {
   "cell_type": "code",
   "execution_count": 117,
   "id": "3c7de0b3",
   "metadata": {},
   "outputs": [
    {
     "name": "stderr",
     "output_type": "stream",
     "text": [
      "d:\\python for data science\\.venv\\Lib\\site-packages\\keras\\src\\layers\\convolutional\\base_conv.py:113: UserWarning: Do not pass an `input_shape`/`input_dim` argument to a layer. When using Sequential models, prefer using an `Input(shape)` object as the first layer in the model instead.\n",
      "  super().__init__(activity_regularizer=activity_regularizer, **kwargs)\n"
     ]
    }
   ],
   "source": [
    "\n",
    "\n",
    "model = models.Sequential([\n",
    "    layers.Conv2D(32, (3,3), activation='relu', input_shape=(150,150,3)),\n",
    "    layers.MaxPooling2D((2,2)),\n",
    "    layers.BatchNormalization(),\n",
    "    layers.Conv2D(64, (3,3), activation='relu'),\n",
    "    layers.MaxPooling2D((2,2)),\n",
    "    layers.BatchNormalization(),\n",
    "    layers.Conv2D(128, (3,3), activation='relu'),\n",
    "    layers.MaxPooling2D((2,2)),\n",
    "    layers.Flatten(),\n",
    "    layers.Dropout(0.5),\n",
    "    layers.Dense(128, activation='relu'),\n",
    "    layers.Dense(1, activation='sigmoid')\n",
    "])\n",
    "\n"
   ]
  },
  {
   "cell_type": "code",
   "execution_count": 118,
   "id": "805f4104",
   "metadata": {},
   "outputs": [],
   "source": [
    "callback = keras.callbacks.EarlyStopping(monitor='loss',\n",
    "patience=3)"
   ]
  },
  {
   "cell_type": "code",
   "execution_count": 119,
   "id": "47435d3a",
   "metadata": {},
   "outputs": [
    {
     "name": "stderr",
     "output_type": "stream",
     "text": [
      "d:\\python for data science\\.venv\\Lib\\site-packages\\keras\\src\\trainers\\data_adapters\\py_dataset_adapter.py:121: UserWarning: Your `PyDataset` class should call `super().__init__(**kwargs)` in its constructor. `**kwargs` can include `workers`, `use_multiprocessing`, `max_queue_size`. Do not pass these arguments to `fit()`, as they will be ignored.\n",
      "  self._warn_if_super_not_called()\n"
     ]
    },
    {
     "name": "stdout",
     "output_type": "stream",
     "text": [
      "Epoch 1/10\n",
      "\u001b[1m289/289\u001b[0m \u001b[32m━━━━━━━━━━━━━━━━━━━━\u001b[0m\u001b[37m\u001b[0m \u001b[1m0s\u001b[0m 496ms/step - accuracy: 0.5510 - loss: 1.3584"
     ]
    },
    {
     "name": "stderr",
     "output_type": "stream",
     "text": [
      "d:\\python for data science\\.venv\\Lib\\site-packages\\PIL\\Image.py:1047: UserWarning: Palette images with Transparency expressed in bytes should be converted to RGBA images\n",
      "  warnings.warn(\n"
     ]
    },
    {
     "name": "stdout",
     "output_type": "stream",
     "text": [
      "\u001b[1m289/289\u001b[0m \u001b[32m━━━━━━━━━━━━━━━━━━━━\u001b[0m\u001b[37m\u001b[0m \u001b[1m161s\u001b[0m 548ms/step - accuracy: 0.5512 - loss: 1.3564 - val_accuracy: 0.6116 - val_loss: 0.6608\n",
      "Epoch 2/10\n",
      "\u001b[1m289/289\u001b[0m \u001b[32m━━━━━━━━━━━━━━━━━━━━\u001b[0m\u001b[37m\u001b[0m \u001b[1m144s\u001b[0m 497ms/step - accuracy: 0.7267 - loss: 0.5989 - val_accuracy: 0.7551 - val_loss: 0.5146\n",
      "Epoch 3/10\n",
      "\u001b[1m289/289\u001b[0m \u001b[32m━━━━━━━━━━━━━━━━━━━━\u001b[0m\u001b[37m\u001b[0m \u001b[1m124s\u001b[0m 430ms/step - accuracy: 0.7491 - loss: 0.5526 - val_accuracy: 0.7660 - val_loss: 0.5003\n",
      "Epoch 4/10\n",
      "\u001b[1m289/289\u001b[0m \u001b[32m━━━━━━━━━━━━━━━━━━━━\u001b[0m\u001b[37m\u001b[0m \u001b[1m150s\u001b[0m 519ms/step - accuracy: 0.7770 - loss: 0.5145 - val_accuracy: 0.6538 - val_loss: 0.5911\n",
      "Epoch 5/10\n",
      "\u001b[1m289/289\u001b[0m \u001b[32m━━━━━━━━━━━━━━━━━━━━\u001b[0m\u001b[37m\u001b[0m \u001b[1m131s\u001b[0m 450ms/step - accuracy: 0.7912 - loss: 0.4829 - val_accuracy: 0.8130 - val_loss: 0.4526\n",
      "Epoch 6/10\n",
      "\u001b[1m289/289\u001b[0m \u001b[32m━━━━━━━━━━━━━━━━━━━━\u001b[0m\u001b[37m\u001b[0m \u001b[1m135s\u001b[0m 468ms/step - accuracy: 0.8139 - loss: 0.4494 - val_accuracy: 0.7841 - val_loss: 0.4808\n",
      "Epoch 7/10\n",
      "\u001b[1m289/289\u001b[0m \u001b[32m━━━━━━━━━━━━━━━━━━━━\u001b[0m\u001b[37m\u001b[0m \u001b[1m127s\u001b[0m 439ms/step - accuracy: 0.8355 - loss: 0.4076 - val_accuracy: 0.7901 - val_loss: 0.4594\n",
      "Epoch 8/10\n",
      "\u001b[1m289/289\u001b[0m \u001b[32m━━━━━━━━━━━━━━━━━━━━\u001b[0m\u001b[37m\u001b[0m \u001b[1m132s\u001b[0m 456ms/step - accuracy: 0.8366 - loss: 0.4025 - val_accuracy: 0.7732 - val_loss: 0.4870\n",
      "Epoch 9/10\n",
      "\u001b[1m289/289\u001b[0m \u001b[32m━━━━━━━━━━━━━━━━━━━━\u001b[0m\u001b[37m\u001b[0m \u001b[1m135s\u001b[0m 468ms/step - accuracy: 0.8522 - loss: 0.3782 - val_accuracy: 0.8528 - val_loss: 0.3925\n",
      "Epoch 10/10\n",
      "\u001b[1m289/289\u001b[0m \u001b[32m━━━━━━━━━━━━━━━━━━━━\u001b[0m\u001b[37m\u001b[0m \u001b[1m135s\u001b[0m 466ms/step - accuracy: 0.8591 - loss: 0.3618 - val_accuracy: 0.8263 - val_loss: 0.4260\n"
     ]
    },
    {
     "data": {
      "text/plain": [
       "<keras.src.callbacks.history.History at 0x1954a641a10>"
      ]
     },
     "execution_count": 119,
     "metadata": {},
     "output_type": "execute_result"
    }
   ],
   "source": [
    "model.compile(optimizer='adam', loss='binary_crossentropy',metrics=['accuracy'])\n",
    "from PIL import ImageFile\n",
    "ImageFile.LOAD_TRUNCATED_IMAGES = True\n",
    "\n",
    "model.fit(train_genertor , epochs=10 , callbacks=[callback], validation_data=val_genertor)\n",
    "\n"
   ]
  },
  {
   "cell_type": "code",
   "execution_count": 120,
   "id": "02c9a873",
   "metadata": {},
   "outputs": [
    {
     "name": "stdout",
     "output_type": "stream",
     "text": [
      "\u001b[1m16/16\u001b[0m \u001b[32m━━━━━━━━━━━━━━━━━━━━\u001b[0m\u001b[37m\u001b[0m \u001b[1m7s\u001b[0m 416ms/step - accuracy: 0.7488 - loss: 0.6084\n",
      "Test Accuracy: 0.77\n"
     ]
    }
   ],
   "source": [
    "loss, acc = model.evaluate(test_genertor)\n",
    "print(f\"Test Accuracy: {acc:.2f}\")"
   ]
  },
  {
   "cell_type": "code",
   "execution_count": 121,
   "id": "0aec90c2",
   "metadata": {},
   "outputs": [
    {
     "name": "stdout",
     "output_type": "stream",
     "text": [
      "\u001b[1m16/16\u001b[0m \u001b[32m━━━━━━━━━━━━━━━━━━━━\u001b[0m\u001b[37m\u001b[0m \u001b[1m7s\u001b[0m 405ms/step\n",
      "              precision    recall  f1-score   support\n",
      "\n",
      "           0       0.48      0.57      0.52       238\n",
      "           1       0.54      0.45      0.49       268\n",
      "\n",
      "    accuracy                           0.51       506\n",
      "   macro avg       0.51      0.51      0.51       506\n",
      "weighted avg       0.51      0.51      0.50       506\n",
      "\n"
     ]
    },
    {
     "data": {
      "image/png": "[encoded data removed]",
      "text/plain": [
       "<Figure size 640x480 with 2 Axes>"
      ]
     },
     "metadata": {},
     "output_type": "display_data"
    }
   ],
   "source": [
    "from sklearn.metrics import classification_report, confusion_matrix, roc_curve, auc\n",
    "import seaborn as sns\n",
    "\n",
    "y_pred = (model.predict(test_genertor) > 0.5).astype(\"int32\")\n",
    "print(classification_report(test_genertor.classes, y_pred))\n",
    "\n",
    "cm = confusion_matrix(test_genertor.classes, y_pred)\n",
    "sns.heatmap(cm, annot=True, fmt=\"d\", cmap=\"Blues\")\n",
    "plt.show()\n"
   ]
  },
  {
   "cell_type": "markdown",
   "id": "fa3e91d0",
   "metadata": {},
   "source": [
    "#For Save The Model"
   ]
  },
  {
   "cell_type": "code",
   "execution_count": 122,
   "id": "3a221af2",
   "metadata": {},
   "outputs": [],
   "source": [
    "model.save_weights(\"bone_fracture.weights.h5\")\n",
    "\n",
    "\n"
   ]
  }
 ],
 "metadata": {
  "kernelspec": {
   "display_name": ".venv",
   "language": "python",
   "name": "python3"
  },
  "language_info": {
   "codemirror_mode": {
    "name": "ipython",
    "version": 3
   },
   "file_extension": ".py",
   "mimetype": "text/x-python",
   "name": "python",
   "nbconvert_exporter": "python",
   "pygments_lexer": "ipython3",
   "version": "3.11.9"
  }
 },
 "nbformat": 4,
 "nbformat_minor": 5
}
