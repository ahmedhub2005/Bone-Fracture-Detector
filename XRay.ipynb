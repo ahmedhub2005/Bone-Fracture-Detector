{
 "cells": [
  {
   "cell_type": "markdown",
   "id": "7e169adc",
   "metadata": {},
   "source": []
  },
  {
   "cell_type": "markdown",
   "id": "233f9f2b",
   "metadata": {},
   "source": [
    "# 🩻 Bone Fracture Detection using Deep Learning  \n",
    "\n",
    "<img src=\"D:\\python for data science\\skeleton xray GIF.gif\" width=\"400\" />\n",
    "\n",
    "\n"
   ]
  },
  {
   "cell_type": "code",
   "execution_count": null,
   "id": "b2a298ab",
   "metadata": {},
   "outputs": [],
   "source": [
    "import tensorflow as tf \n",
    "from tensorflow import keras\n",
    "from keras import layers, models\n",
    "from tensorflow.keras.preprocessing.image import ImageDataGenerator"
   ]
  },
  {
   "cell_type": "code",
   "execution_count": null,
   "id": "cf03a2c7",
   "metadata": {},
   "outputs": [],
   "source": [
    "traingen=ImageDataGenerator(    \n",
    "    rescale=1./255,\n",
    "    rotation_range=15,\n",
    "    width_shift_range=0.1,\n",
    "    height_shift_range=0.1,\n",
    "    shear_range=0.1,\n",
    "    zoom_range=0.1,\n",
    "    horizontal_flip=True)\n",
    "\n",
    "train_genertor=traingen.flow_from_directory(\n",
    "   r\"D:\\python for data science\\Bone_Fracture_Binary_Classification\\Bone_Fracture_Binary_Classification\\train\",\n",
    "    target_size=(150 , 150),\n",
    "    batch_size=32,\n",
    "    class_mode=\"binary\",\n",
    "    color_mode=\"rgb\"\n",
    ")\n",
    "val_genertor=traingen.flow_from_directory(\n",
    "    r'\\python for data science\\Bone_Fracture_Binary_Classification\\Bone_Fracture_Binary_Classification\\val',\n",
    "    target_size=(150 , 150),\n",
    "    batch_size=32,\n",
    "    class_mode=\"binary\", \n",
    "    color_mode=\"rgb\"\n",
    ")\n",
    "test_genertor=traingen.flow_from_directory(\n",
    "    r'\\python for data science\\Bone_Fracture_Binary_Classification\\Bone_Fracture_Binary_Classification\\test',\n",
    "    target_size=(150 , 150),\n",
    "    batch_size=32,\n",
    "    class_mode=\"binary\" ,#علي حسب الداتا باينري كلاسفكيش ولا مالتي\n",
    "    color_mode=\"rgb\"\n",
    ")\n"
   ]
  },
  {
   "cell_type": "markdown",
   "id": "9f35d783",
   "metadata": {},
   "source": [
    "##Show some Images"
   ]
  },
  {
   "cell_type": "code",
   "execution_count": null,
   "id": "669f6327",
   "metadata": {},
   "outputs": [],
   "source": [
    "import cv2\n",
    "\n",
    "img = train_genertor[0][0][0]\n",
    "\n",
    "img = img.astype(\"uint8\")\n",
    "cv2.imshow(\"X-ray Sample\", img)\n",
    "cv2.waitKey(0)          \n",
    "cv2.destroyAllWindows()  \n",
    "\n"
   ]
  },
  {
   "cell_type": "code",
   "execution_count": null,
   "id": "eee91be5",
   "metadata": {},
   "outputs": [],
   "source": [
    "img = train_genertor[0][0][25]\n",
    "\n",
    "img = img.astype(\"uint8\")\n",
    "cv2.imshow(\"X-ray Sample\", img)\n",
    "cv2.waitKey(0)          \n",
    "cv2.destroyAllWindows()  \n"
   ]
  },
  {
   "cell_type": "code",
   "execution_count": null,
   "id": "e660c481",
   "metadata": {},
   "outputs": [],
   "source": [
    "img = train_genertor[0][0][15]\n",
    "\n",
    "img = img.astype(\"uint8\")\n",
    "cv2.imshow(\"X-ray Sample\", img)\n",
    "cv2.waitKey(0)          \n",
    "cv2.destroyAllWindows()  \n"
   ]
  },
  {
   "cell_type": "code",
   "execution_count": null,
   "id": "f618b667",
   "metadata": {},
   "outputs": [],
   "source": [
    "img = train_genertor[0][0][23]\n",
    "\n",
    "img = img.astype(\"uint8\")\n",
    "cv2.imshow(\"X-ray Sample\", img)\n",
    "cv2.waitKey(0)          \n",
    "cv2.destroyAllWindows()  \n"
   ]
  },
  {
   "cell_type": "code",
   "execution_count": null,
   "id": "b82faf79",
   "metadata": {},
   "outputs": [],
   "source": [
    "import matplotlib.pyplot as plt\n",
    "import numpy as np\n",
    "\n",
    "labels = list(train_genertor.class_indices.keys())\n",
    "counts = np.bincount(train_genertor.classes)\n",
    "\n",
    "plt.bar(labels, counts)\n",
    "plt.title(\"Class Distribution\")\n",
    "plt.show()\n"
   ]
  },
  {
   "cell_type": "code",
   "execution_count": null,
   "id": "3c7de0b3",
   "metadata": {},
   "outputs": [],
   "source": [
    "\n",
    "\n",
    "model = models.Sequential([\n",
    "    layers.Conv2D(32, (3,3), activation='relu', input_shape=(150,150,3)),\n",
    "    layers.MaxPooling2D((2,2)),\n",
    "    layers.BatchNormalization(),\n",
    "    layers.Conv2D(64, (3,3), activation='relu'),\n",
    "    layers.MaxPooling2D((2,2)),\n",
    "    layers.BatchNormalization(),\n",
    "    layers.Conv2D(128, (3,3), activation='relu'),\n",
    "    layers.MaxPooling2D((2,2)),\n",
    "    layers.Flatten(),\n",
    "    layers.Dropout(0.5),\n",
    "    layers.Dense(128, activation='relu'),\n",
    "    layers.Dense(1, activation='sigmoid')\n",
    "])\n",
    "\n"
   ]
  },
  {
   "cell_type": "code",
   "execution_count": null,
   "id": "805f4104",
   "metadata": {},
   "outputs": [],
   "source": [
    "callback = keras.callbacks.EarlyStopping(monitor='loss',\n",
    "patience=3)"
   ]
  },
  {
   "cell_type": "code",
   "execution_count": null,
   "id": "47435d3a",
   "metadata": {},
   "outputs": [],
   "source": [
    "model.compile(optimizer='adam', loss='binary_crossentropy',metrics=['accuracy'])\n",
    "from PIL import ImageFile\n",
    "ImageFile.LOAD_TRUNCATED_IMAGES = True\n",
    "\n",
    "hist=model.fit(train_genertor , epochs=10 , callbacks=[callback], validation_data=val_genertor)\n",
    "\n"
   ]
  },
  {
   "cell_type": "code",
   "execution_count": null,
   "id": "92a3e78c",
   "metadata": {},
   "outputs": [],
   "source": [
    "plt.plot(hist.history['loss'], label='train_loss')\n",
    "plt.plot(hist.history['val_loss'], label='val_loss')\n",
    "plt.legend(); plt.title('Loss over epochs'); plt.xlabel('epoch'); plt.show()"
   ]
  },
  {
   "cell_type": "code",
   "execution_count": null,
   "id": "8444b371",
   "metadata": {},
   "outputs": [],
   "source": [
    "plt.plot(hist.history['accuracy'], label='train_acc')\n",
    "plt.plot(hist.history['val_accuracy'], label='val_acc')\n",
    "plt.legend(); plt.title('Accuracy over epochs'); plt.xlabel('epoch'); plt.show()"
   ]
  },
  {
   "cell_type": "code",
   "execution_count": null,
   "id": "02c9a873",
   "metadata": {},
   "outputs": [],
   "source": [
    "loss, acc = model.evaluate(test_genertor)\n",
    "print(f\"Test Accuracy: {acc:.2f}\")"
   ]
  },
  {
   "cell_type": "code",
   "execution_count": null,
   "id": "0aec90c2",
   "metadata": {},
   "outputs": [],
   "source": [
    "from sklearn.metrics import classification_report, confusion_matrix, roc_curve, auc\n",
    "import seaborn as sns\n",
    "\n",
    "y_pred = (model.predict(test_genertor) > 0.5).astype(\"int32\")\n",
    "print(classification_report(test_genertor.classes, y_pred))\n",
    "\n",
    "cm = confusion_matrix(test_genertor.classes, y_pred)\n",
    "sns.heatmap(cm, annot=True, fmt=\"d\", cmap=\"Blues\")\n",
    "plt.show()\n"
   ]
  },
  {
   "cell_type": "markdown",
   "id": "fa3e91d0",
   "metadata": {},
   "source": [
    "#For Save The Model"
   ]
  },
  {
   "cell_type": "code",
   "execution_count": null,
   "id": "3a221af2",
   "metadata": {},
   "outputs": [],
   "source": [
    "model.save(\"bone_fracture.h5\")"
   ]
  }
 ],
 "metadata": {
  "kernelspec": {
   "display_name": ".venv",
   "language": "python",
   "name": "python3"
  },
  "language_info": {
   "codemirror_mode": {
    "name": "ipython",
    "version": 3
   },
   "file_extension": ".py",
   "mimetype": "text/x-python",
   "name": "python",
   "nbconvert_exporter": "python",
   "pygments_lexer": "ipython3",
   "version": "3.11.9"
  }
 },
 "nbformat": 4,
 "nbformat_minor": 5
}
